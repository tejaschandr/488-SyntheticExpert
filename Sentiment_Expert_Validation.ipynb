{
  "nbformat": 4,
  "nbformat_minor": 0,
  "metadata": {
    "colab": {
      "provenance": []
    },
    "kernelspec": {
      "name": "python3",
      "display_name": "Python 3"
    },
    "language_info": {
      "name": "python"
    }
  },
  "cells": [
    {
      "cell_type": "code",
      "source": [
        "\n",
        "\n",
        "from transformers import BertTokenizer, BertForSequenceClassification\n",
        "\n",
        "# Paths where model and tokenizer were saved\n",
        "model_path = # BERT Model download path\n",
        "tokenizer_path = # BERT Model download path\n",
        "\n",
        "# Load the model\n",
        "model = BertForSequenceClassification.from_pretrained(model_path)\n",
        "# Load the tokenizer\n",
        "tokenizer = BertTokenizer.from_pretrained(tokenizer_path)\n"
      ],
      "metadata": {
        "colab": {
          "base_uri": "https://localhost:8080/"
        },
        "id": "vgeDbm3am-0i",
        "outputId": "eaa1f6e1-aacd-427c-ea92-6de6fe86492c"
      },
      "execution_count": null,
      "outputs": [
        {
          "output_type": "stream",
          "name": "stdout",
          "text": [
            "Mounted at /content/drive\n"
          ]
        }
      ]
    },
    {
      "cell_type": "code",
      "source": [
        "# Import necessary libraries\n",
        "import pandas as pd\n",
        "from transformers import BertTokenizer, BertForSequenceClassification\n",
        "\n",
        "# Function to load the model and tokenizer\n",
        "def load_resources(model_path, tokenizer_path):\n",
        "    model = BertForSequenceClassification.from_pretrained(model_path)\n",
        "    tokenizer = BertTokenizer.from_pretrained(tokenizer_path)\n",
        "    return model, tokenizer\n",
        "\n",
        "# Function to predict ad type\n",
        "def predict_ad_type(ad_text, model, tokenizer):\n",
        "    inputs = tokenizer(ad_text, return_tensors=\"pt\", padding=True, truncation=True)\n",
        "    outputs = model(**inputs)\n",
        "    predicted_label_idx = outputs.logits.argmax().item()\n",
        "    label_map_inverse = {0: 'product promotion', 1: 'service promotion', 2: 'sales promotion', 3: 'lead generation', 4: 'brand awareness'}\n",
        "    predicted_label = label_map_inverse[predicted_label_idx]\n",
        "    return predicted_label\n"
      ],
      "metadata": {
        "id": "wStfeQmNnG2v"
      },
      "execution_count": null,
      "outputs": []
    },
    {
      "cell_type": "code",
      "source": [
        "import pandas as pd\n",
        "file_path = #Labeled Validation Sample File\n",
        "\n",
        "new_data = new_data.dropna(subset=['Ad Description1'])\n",
        "new_data.info()\n"
      ],
      "metadata": {
        "colab": {
          "base_uri": "https://localhost:8080/"
        },
        "id": "m0t7bAsynWx3",
        "outputId": "5eb8caf6-1e33-478b-8cdc-5b3dbbaa407c"
      },
      "execution_count": null,
      "outputs": [
        {
          "output_type": "stream",
          "name": "stdout",
          "text": [
            "<class 'pandas.core.frame.DataFrame'>\n",
            "Index: 439 entries, 0 to 499\n",
            "Data columns (total 4 columns):\n",
            " #   Column           Non-Null Count  Dtype \n",
            "---  ------           --------------  ----- \n",
            " 0   Number           439 non-null    int64 \n",
            " 1   Product/Company  439 non-null    object\n",
            " 2   Ad Description1  439 non-null    object\n",
            " 3   Label            439 non-null    object\n",
            "dtypes: int64(1), object(3)\n",
            "memory usage: 17.1+ KB\n"
          ]
        }
      ]
    },
    {
      "cell_type": "code",
      "execution_count": null,
      "metadata": {
        "id": "bI-BjNc2m9Lc"
      },
      "outputs": [],
      "source": [
        "\n",
        "predicted_types = []\n",
        "for ad_text in new_data['Ad Description1']:\n",
        "    predicted_type = predict_ad_type(ad_text, model, tokenizer)\n",
        "    predicted_types.append(predicted_type)\n",
        "\n",
        "new_data['Predicted Classification'] = predicted_types\n",
        "new_data.to_csv('new_data_with_predictions.csv', index=False)\n"
      ]
    },
    {
      "cell_type": "code",
      "source": [
        "\n",
        "from sklearn.metrics import classification_report\n",
        "\n",
        "# Extract the actual and predicted labels\n",
        "actual_labels = new_data['Label']\n",
        "predicted_labels = new_data['Predicted Classification']\n",
        "\n",
        "# Generate the classification report\n",
        "report = classification_report(actual_labels, predicted_labels)\n",
        "\n",
        "# Print the classification report\n",
        "print(report)\n"
      ],
      "metadata": {
        "colab": {
          "base_uri": "https://localhost:8080/"
        },
        "id": "CREQyOlBnLqd",
        "outputId": "9d38e4ec-1f61-44ec-d6b1-437945e76693"
      },
      "execution_count": null,
      "outputs": [
        {
          "output_type": "stream",
          "name": "stdout",
          "text": [
            "                   precision    recall  f1-score   support\n",
            "\n",
            "  brand awareness       0.52      0.09      0.16       171\n",
            "  lead generation       0.67      0.04      0.08        97\n",
            "product promotion       0.22      0.70      0.34        66\n",
            "  sales promotion       0.47      0.84      0.60        89\n",
            "service promotion       0.27      0.62      0.38        16\n",
            "\n",
            "         accuracy                           0.34       439\n",
            "        macro avg       0.43      0.46      0.31       439\n",
            "     weighted avg       0.49      0.34      0.27       439\n",
            "\n"
          ]
        }
      ]
    }
  ]
}