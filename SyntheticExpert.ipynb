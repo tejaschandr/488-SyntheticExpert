{
  "nbformat": 4,
  "nbformat_minor": 0,
  "metadata": {
    "colab": {
      "provenance": []
    },
    "kernelspec": {
      "name": "python3",
      "display_name": "Python 3"
    },
    "language_info": {
      "name": "python"
    }
  },
  "cells": [
    {
      "cell_type": "markdown",
      "source": [
        "**Synthetic Expert Hosted on Hugging Face**\n",
        "\n",
        "https://huggingface.co/tejasc/AdTypeClassifier"
      ],
      "metadata": {
        "id": "pFR-sXvrag_2"
      }
    },
    {
      "cell_type": "code",
      "execution_count": null,
      "metadata": {
        "colab": {
          "base_uri": "https://localhost:8080/"
        },
        "id": "yFu5lnG_X1MR",
        "outputId": "282e7189-f04e-4faa-b7b8-5d33baa9940d"
      },
      "outputs": [
        {
          "output_type": "stream",
          "name": "stdout",
          "text": [
            "Mounted at /content/drive\n"
          ]
        }
      ],
      "source": [
        "from google.colab import drive\n",
        "drive.mount('/content/drive')\n",
        "\n",
        "from transformers import BertTokenizer, BertForSequenceClassification\n",
        "\n",
        "# Paths where your model and tokenizer were saved\n",
        "model_path = # BERT Model download path\n",
        "tokenizer_path = # BERT Model download path\n",
        "\n",
        "# Load the model\n",
        "model = BertForSequenceClassification.from_pretrained(model_path)\n",
        "# Load the tokenizer\n",
        "tokenizer = BertTokenizer.from_pretrained(tokenizer_path)\n"
      ]
    },
    {
      "cell_type": "code",
      "source": [
        "# Import necessary libraries\n",
        "import pandas as pd\n",
        "from transformers import BertTokenizer, BertForSequenceClassification\n",
        "\n",
        "# Function to load the model and tokenizer\n",
        "def load_resources(model_path, tokenizer_path):\n",
        "    model = BertForSequenceClassification.from_pretrained(model_path)\n",
        "    tokenizer = BertTokenizer.from_pretrained(tokenizer_path)\n",
        "    return model, tokenizer\n",
        "\n",
        "# Function to predict ad type\n",
        "def predict_ad_type(ad_text, model, tokenizer):\n",
        "    inputs = tokenizer(ad_text, return_tensors=\"pt\", padding=True, truncation=True)\n",
        "    outputs = model(**inputs)\n",
        "    predicted_label_idx = outputs.logits.argmax().item()\n",
        "    label_map_inverse = {0: 'product promotion', 1: 'service promotion', 2: 'sales promotion', 3: 'lead generation', 4: 'brand awareness'}\n",
        "    predicted_label = label_map_inverse[predicted_label_idx]\n",
        "    return predicted_label\n"
      ],
      "metadata": {
        "id": "BNVNusKqlXaq"
      },
      "execution_count": null,
      "outputs": []
    },
    {
      "cell_type": "markdown",
      "source": [
        "**Model Hosted on Colab**\n",
        "\n",
        "Input Ad Text into text box, will output an ad type as either\n",
        "\n",
        "\n",
        "*   Product Promotion\n",
        "*   Service Promotion\n",
        "*   Sales Promotion\n",
        "*   Lead Generation\n",
        "*   Brand Awareness\n",
        "\n",
        "\n"
      ],
      "metadata": {
        "id": "qfjhTeZWayKX"
      }
    },
    {
      "cell_type": "code",
      "source": [
        "# Load the model and tokenizer\n",
        "model, tokenizer = load_resources(model_path, tokenizer_path)\n",
        "\n",
        "ad_text = input(\"Enter the ad text: \")\n",
        "predicted_type = predict_ad_type(ad_text, model, tokenizer)\n",
        "print(f\"The ad type is predicted to be: {predicted_type}\")"
      ],
      "metadata": {
        "colab": {
          "base_uri": "https://localhost:8080/"
        },
        "id": "gQuTz588mwIi",
        "outputId": "3a0fe4cd-aa21-4bbc-f4c3-91715b88de6e"
      },
      "execution_count": null,
      "outputs": [
        {
          "output_type": "stream",
          "name": "stdout",
          "text": [
            "Enter the ad text: PetSmart Veterinary Hospitals Are Doctor-Owned and Staffed by Passionate Veterinary Teams. Get Ready for a New, Veterinarian-Owned Pet Hospital Coming Soon to Your...\n",
            "The ad type is predicted to be: brand awareness\n"
          ]
        }
      ]
    }
  ]
}